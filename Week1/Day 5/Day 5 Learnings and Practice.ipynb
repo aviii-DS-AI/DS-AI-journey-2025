{
 "cells": [
  {
   "cell_type": "markdown",
   "id": "72b0e93b-b29e-4610-badf-f70dc3e05c21",
   "metadata": {},
   "source": [
    "Python Sets & Dictionaries( Concepts )\n",
    "SETS : Unordered, mutable collections of unique elements.\n",
    "\n",
    "Common Operations: add(), remove(), discard(), clear()\n",
    "\n",
    "Set math:\n",
    "union(), intersection(), difference(), symmetric_difference()\n",
    "Operators: |, &, -, ^\n",
    "\n",
    "📌 Use-Cases:\n",
    "-Membership testing (if x in my_set) – super fast!\n",
    "-Eliminating duplicates: set(my_list)\n",
    "-Comparing datasets: e.g., shared users, missing IDs\n",
    "-Efficient lookups in algorithms (e.g., visited nodes in graphs)\n",
    "\n"
   ]
  },
  {
   "cell_type": "code",
   "execution_count": null,
   "id": "3f10f4f7-fec5-4cfc-8695-26c6f9f0df14",
   "metadata": {},
   "outputs": [],
   "source": [
    "# Real-World Example:\n",
    "# Finding users who logged in both today and yesterday\n",
    "logged_in_today = {'alice', 'bob', 'carol'}\n",
    "logged_in_yesterday = {'bob', 'carol', 'dave'}\n",
    "\n",
    "repeat_users = logged_in_today & logged_in_yesterday  # & = intersection\n",
    "print(repeat_users)  # {'bob', 'carol'}\n",
    "\n",
    "\n",
    "\n"
   ]
  },
  {
   "cell_type": "markdown",
   "id": "6f73af0d-24a5-45f1-b29f-2afcf2b5df03",
   "metadata": {},
   "source": [
    "Python Dictionaries:\n",
    "-Key-value pairs, mutable, unordered (in <3.7)\n",
    "-Keys must be hashable (immutable types like strings, numbers, tuples)\n",
    "\n",
    "Common Operations:\n",
    "Access: my_dict[key] or .get(key, default)\n",
    "Update: my_dict[key] = value\n",
    "Remove: pop(key), del, popitem()\n",
    "Iterate: items(), keys(), values()\n",
    "\n",
    " Use--Cases:\n",
    "-Storing structured data: records, configs\n",
    "-Lookup tables: maps, translations\n",
    "-Counting: with collections.Counter\n",
    "Nested data: JSON-like structures"
   ]
  },
  {
   "cell_type": "code",
   "execution_count": null,
   "id": "f7a6dcc3-93dc-4c78-9522-9b8fe411ed11",
   "metadata": {
    "jp-MarkdownHeadingCollapsed": true
   },
   "outputs": [],
   "source": [
    "# Real-World Example:\n",
    "# Handling JSON-like API response\n",
    "user = {\n",
    "    \"id\": 123,\n",
    "    \"name\": \"Alice\",\n",
    "    \"roles\": [\"admin\", \"editor\"],\n",
    "    \"location\": {\"city\": \"New York\", \"zip\": \"10001\"}\n",
    "}\n",
    "\n",
    "print(user[\"location\"][\"city\"])  # New York, \n",
    "\n",
    "roles = user[\"roles\"]\n",
    "print(roles)  # Output: ['admin', 'editor']\n",
    "\n",
    "role_string = \", \".join(user[\"roles\"])  ##\", \".join(...) combines the list into a single string separated by commas\n",
    "print(role_string)  # Output: admin, editor  \n",
    "\n"
   ]
  },
  {
   "cell_type": "markdown",
   "id": "7babfa53-862a-45ef-aa28-320e0ecc385d",
   "metadata": {},
   "source": [
    "Exception Handling in Python**\n",
    "  - try / except / else / finally\n",
    "\n",
    "try:\n",
    "    # Code that may raise an exception\n",
    "except SomeException as e:\n",
    "    # Handle the exception\n",
    "else:\n",
    "    # Executes *if no exception* was raised\n",
    "finally:\n",
    "    # Always executes, exception or not\n"
   ]
  },
  {
   "cell_type": "code",
   "execution_count": null,
   "id": "9647c84e-205c-48fe-90ee-4b48ad827300",
   "metadata": {},
   "outputs": [],
   "source": [
    "## Example \n",
    "def divide(a, b):\n",
    "    try:\n",
    "        result = a / b\n",
    "    except ZeroDivisionError as e:\n",
    "        print(\"Can't divide by zero!\")\n",
    "    else:\n",
    "        print(\"Division successful:\", result)\n",
    "    finally:\n",
    "        print(\"Operation complete.\")\n",
    "\n",
    "divide(10, 2)\n",
    "divide(10, 0)\n"
   ]
  },
  {
   "cell_type": "markdown",
   "id": "5ea4c17a-92e0-4f45-adac-ff505c4cbe80",
   "metadata": {},
   "source": [
    "-----Raising Custom Exceptions----\n",
    "- Using raise\n",
    "- Creating Custom Exception Classes\n",
    "- Using Custom Exception"
   ]
  },
  {
   "cell_type": "code",
   "execution_count": 24,
   "id": "c253b92d-6caf-4fe4-8cc6-91325d0345e5",
   "metadata": {},
   "outputs": [
    {
     "name": "stdout",
     "output_type": "stream",
     "text": [
      "Age set to 18\n",
      "None\n"
     ]
    }
   ],
   "source": [
    "## raise \n",
    "def set_age(age):\n",
    "    if age < 0:\n",
    "        #  Raise a built-in ValueError if age is invalid\n",
    "        raise ValueError(\"Age cannot be negative.\")\n",
    "    # This runs if age is valid\n",
    "    else:\n",
    "        print(\"Age set to\", age)\n",
    "    \n",
    "print(set_age(18))\n"
   ]
  },
  {
   "cell_type": "code",
   "execution_count": 32,
   "id": "951a0769-3d7d-4268-9a85-0ea3220fdaf1",
   "metadata": {},
   "outputs": [
    {
     "name": "stdout",
     "output_type": "stream",
     "text": [
      "Age set to 31\n",
      "None\n"
     ]
    }
   ],
   "source": [
    "\n",
    "# ✅ Create your own exception by inheriting from Exception\n",
    "\n",
    "\n",
    "def set_age(age):\n",
    "    if age < 0:\n",
    "        # ❌ Now raise your custom error instead of a built-in one\n",
    "        raise InvalidAgeError(\"Age must be non-negative.\")\n",
    "    \n",
    "    print(f\"Age set to {age}\")\n",
    "    \n",
    "print(set_age(31))"
   ]
  },
  {
   "cell_type": "code",
   "execution_count": 28,
   "id": "76eb00d0-7f30-4986-9062-238385bf1015",
   "metadata": {},
   "outputs": [
    {
     "name": "stdout",
     "output_type": "stream",
     "text": [
      "Division successful: 5.0\n",
      "Operation complete.\n",
      "Can't divide by zero!\n",
      "Operation complete.\n"
     ]
    }
   ],
   "source": [
    "#  Example:-----------\n",
    "def divide(a, b):\n",
    "    try:\n",
    "        result = a / b\n",
    "    except ZeroDivisionError as e: # ZeroDivisionRraised automatically by Python when you try to divide a number by zero.\n",
    "        print(\"Can't divide by zero!\")\n",
    "    else:\n",
    "        print(\"Division successful:\", result)\n",
    "    finally:\n",
    "        print(\"Operation complete.\")\n",
    "\n",
    "divide(10, 2)\n",
    "divide(10, 0)\n"
   ]
  },
  {
   "cell_type": "code",
   "execution_count": null,
   "id": "a51370ee-4515-46f2-b975-fb235ca9da53",
   "metadata": {},
   "outputs": [],
   "source": []
  },
  {
   "cell_type": "code",
   "execution_count": 33,
   "id": "db5421ec-2d46-499c-bdfb-431306bb6038",
   "metadata": {},
   "outputs": [
    {
     "name": "stdout",
     "output_type": "stream",
     "text": [
      "Custom Exception: Age must be non-negative.\n"
     ]
    }
   ],
   "source": [
    "try:\n",
    "    set_age(-5)  # ❌ This will raise InvalidAgeError\n",
    "except InvalidAgeError as e:\n",
    "    # 🛑 Catch and handle your custom exception\n",
    "    print(\"Custom Exception:\", e)\n"
   ]
  },
  {
   "cell_type": "code",
   "execution_count": null,
   "id": "feb393f2-4a52-4d51-9c8a-c13b86660c50",
   "metadata": {},
   "outputs": [],
   "source": [
    "**NumPy Basics**\n",
    "Arrays vs Lists — Key Differences\n",
    "\n",
    "Python arrays are similar to lists but are more efficient and suitable for numerical operations. \n",
    "They are part of the NumPy library, which provides support for large, multi-dimensional arrays and matrices, \n",
    "along with a large collection of high-level mathematical functions to operate on these arrays.\n",
    "\n",
    "Feature\tPython              List\t                               NumPy Array (ndarray)\n",
    "Heterogeneous?\t            ✅ Yes\t                               ❌ No (same data type only)\n",
    "Faster?\t                    ❌ No\t                               ✅ Yes (C-optimized)\n",
    "Supports math ops?\t        ❌ No ([1,2]+[3,4] = [1,2,3,4])\t   ✅ Yes (np.array([1,2]) + np.array([3,4]) = [4,6])\n",
    "Memory Efficient?\t        ❌ No\t                               ✅ Yes\n",
    "\n"
   ]
  },
  {
   "cell_type": "code",
   "execution_count": 42,
   "id": "e4311c91-0ee3-48dd-a2f0-02c05cf05d99",
   "metadata": {},
   "outputs": [
    {
     "name": "stdout",
     "output_type": "stream",
     "text": [
      "[1 2 3]\n",
      "[[1 2]\n",
      " [3 4]]\n",
      "-----------------------------------------------------------------------------------------\n",
      "[[0. 0. 0.]\n",
      " [0. 0. 0.]]\n",
      "-----------------------------------------------------------------------------------------\n",
      "[1. 1. 1. 1. 1.]\n",
      "-----------------------------------------------------------------------------------------\n",
      "[0 2 4 6 8]\n",
      "-----------------------------------------------------------------------------------------\n",
      "[0.   0.25 0.5  0.75 1.  ]\n"
     ]
    }
   ],
   "source": [
    "## CREATING ARRAYS\n",
    "import numpy as np\n",
    "\n",
    "# From list\n",
    "a = np.array([1, 2, 3])           # 1D array\n",
    "b = np.array([[1, 2], [3, 4]])    # 2D array\n",
    "\n",
    "# With functions\n",
    "zeros = np.zeros((2, 3))          # 2x3 array of zeros\n",
    "ones = np.ones(5)                 # 1D array of ones\n",
    "range_array = np.arange(0, 10, 2) # [0, 2, 4, 6, 8]\n",
    "linspace_array = np.linspace(0, 1, 5) # 5 evenly spaced values between 0 and 1\n",
    "\n",
    "\n",
    "print(a)\n",
    "print(b)\n",
    "print(\"-----------------------------------------------------------------------------------------\")\n",
    "print(zeros)\n",
    "print(\"-----------------------------------------------------------------------------------------\")\n",
    "print(ones)\n",
    "print(\"-----------------------------------------------------------------------------------------\")\n",
    "print(range_array)\n",
    "print(\"-----------------------------------------------------------------------------------------\")\n",
    "print(linspace_array)"
   ]
  },
  {
   "cell_type": "code",
   "execution_count": 43,
   "id": "6a4890fe-3f69-4b74-8416-e427b209c874",
   "metadata": {},
   "outputs": [
    {
     "name": "stdout",
     "output_type": "stream",
     "text": [
      "[6 7 8]\n",
      "[2 4 6]\n",
      "[1 4 9]\n",
      "6\n",
      "2.0\n",
      "3\n"
     ]
    }
   ],
   "source": [
    "## Array Operations\n",
    "\n",
    "arr = np.array([1, 2, 3])\n",
    "\n",
    "# Element-wise math\n",
    "print(arr + 5)        # [6 7 8]\n",
    "print(arr * 2)        # [2 4 6]\n",
    "print(arr ** 2)       # [1 4 9]\n",
    "\n",
    "# Aggregate functions\n",
    "print(arr.sum())      # 6\n",
    "print(arr.mean())     # 2.0\n",
    "print(arr.max())      # 3\n"
   ]
  },
  {
   "cell_type": "code",
   "execution_count": null,
   "id": "7036ab8d-4ca7-453c-bcfb-89e911d87ef8",
   "metadata": {},
   "outputs": [],
   "source": [
    "##Broadcasting (🔥 Powerful feature)\n",
    "#  Broadcasting = automatic resizing during operations (when dimensions don't match but are compatible).\n",
    "\n",
    "a = np.array([1, 2, 3])\n",
    "b = 2\n",
    "print(a + b)  # [3 4 5] — b is \"broadcasted\" to match `a`\n",
    "\n",
    "# 2D + 1D broadcast\n",
    "A = np.array([[1, 2, 3], [4, 5, 6]])\n",
    "B = np.array([10, 20, 30])\n",
    "print(A + B)\n",
    "# Output:\n",
    "# [[11 22 33]\n",
    "#  [14 25 36]]\n"
   ]
  },
  {
   "cell_type": "markdown",
   "id": "1b75619c-4384-4f44-bf34-87f0c3f9b2ba",
   "metadata": {},
   "source": [
    "TL;DR Summary:\n",
    "🔥Use np.array() for fast math, memory efficiency, and matrix-style ops\n",
    "\n",
    "🔥Think in vectors & matrices — slicing, indexing, broadcasting are key!\n",
    "\n",
    "🔥Python lists are flexible but NumPy arrays are optimized for speed + numerical work"
   ]
  },
  {
   "cell_type": "markdown",
   "id": "2fed4f89-322e-4231-95fb-a60e008b1379",
   "metadata": {},
   "source": [
    "🔁 Practice Tasks\n",
    "- Create a function using `try/except` to divide numbers with error handling\n",
    "- Create a dictionary-based student record system (search, insert, update)\n",
    "- Convert a list into a NumPy array and perform basic math operations\n",
    "- Compare speed of NumPy array ops vs native Python loops"
   ]
  },
  {
   "cell_type": "code",
   "execution_count": 46,
   "id": "93532333-cda9-46cf-b2b6-90a299da8ec4",
   "metadata": {},
   "outputs": [
    {
     "name": "stdout",
     "output_type": "stream",
     "text": [
      "Division attempt finished.\n",
      "Result: 5.0\n",
      "-----------------------------------------------------------------------------------------\n",
      "Division attempt finished.\n",
      "Error: Cannot divide by zero\n",
      "-----------------------------------------------------------------------------------------\n",
      "Division attempt finished.\n",
      "Error: Inputs must be numbers\n"
     ]
    }
   ],
   "source": [
    "#1. Function with try/except for Safe Division\n",
    "def safe_divide(a, b):\n",
    "    try:\n",
    "        result = a / b\n",
    "    except ZeroDivisionError:\n",
    "        return \"Error: Cannot divide by zero\"\n",
    "    except TypeError: #A TypeError in Python occurs when you try to perform an operation on an object of an incorrect type.\n",
    "        return \"Error: Inputs must be numbers\"\n",
    "    else:\n",
    "        return f\"Result: {result}\"\n",
    "    finally:\n",
    "        print(\"Division attempt finished.\")\n",
    "\n",
    "# Test cases\n",
    "print(safe_divide(10, 2))   # Result: 5.0\n",
    "print(\"-----------------------------------------------------------------------------------------\")\n",
    "print(safe_divide(10, 0))   # Error: Cannot divide by zero\n",
    "print(\"-----------------------------------------------------------------------------------------\")\n",
    "print(safe_divide(10, 'a')) # Error: Inputs must be numbers\n",
    "\n"
   ]
  },
  {
   "cell_type": "code",
   "execution_count": 47,
   "id": "5c2206e1-cf99-421a-8c8c-1da455f3c4f1",
   "metadata": {},
   "outputs": [
    {
     "name": "stdout",
     "output_type": "stream",
     "text": [
      "{101: {'name': 'Alice', 'grade': 90}, 102: {'name': 'Bob', 'grade': 75}}\n",
      "{'name': 'Alice', 'grade': 90}\n",
      "Student not found.\n"
     ]
    }
   ],
   "source": [
    "#2. Dictionary-Based Student Record System\n",
    "students = {}\n",
    "\n",
    "def insert_student(student_id, name, grade):\n",
    "    students[student_id] = {\"name\": name, \"grade\": grade}\n",
    "\n",
    "def update_student(student_id, name=None, grade=None):\n",
    "    if student_id in students:\n",
    "        if name:\n",
    "            students[student_id][\"name\"] = name\n",
    "        if grade:\n",
    "            students[student_id][\"grade\"] = grade\n",
    "    else:\n",
    "        print(\"Student not found.\")\n",
    "\n",
    "def search_student(student_id):\n",
    "    return students.get(student_id, \"Student not found.\")\n",
    "\n",
    "# Example usage\n",
    "insert_student(101, \"Alice\", 88)\n",
    "insert_student(102, \"Bob\", 75)\n",
    "update_student(101, grade=90)\n",
    "print(students)\n",
    "print(search_student(101))  # {'name': 'Alice', 'grade': 90}\n",
    "print(search_student(999))  # Student not found.\n"
   ]
  },
  {
   "cell_type": "code",
   "execution_count": 49,
   "id": "d8659c64-9c95-4c66-b646-9c20f6066d7c",
   "metadata": {},
   "outputs": [
    {
     "name": "stdout",
     "output_type": "stream",
     "text": [
      "[11 12 13 14 15]\n",
      "[ 2  4  6  8 10]\n",
      "3.0\n",
      "[ 1  4  9 16 25]\n"
     ]
    }
   ],
   "source": [
    "## 3. Convert List to NumPy Array + Math Ops\n",
    "\n",
    "import numpy as np\n",
    "\n",
    "my_list = [1, 2, 3, 4, 5]\n",
    "arr = np.array(my_list)\n",
    "\n",
    "# Basic operations\n",
    "print(arr + 10)   # [11 12 13 14 15]\n",
    "print(arr * 2)    # [2 4 6 8 10]\n",
    "print(arr.mean()) # 3.0\n",
    "print(arr ** 2)   # [ 1  4  9 16 25]\n",
    "\n"
   ]
  },
  {
   "cell_type": "code",
   "execution_count": 50,
   "id": "0fc41029-0a95-4d35-941b-fef578423662",
   "metadata": {},
   "outputs": [
    {
     "name": "stdout",
     "output_type": "stream",
     "text": [
      "Python list time: 0.05654 seconds\n",
      "NumPy array time: 0.00276 seconds\n"
     ]
    }
   ],
   "source": [
    "## 4. Speed Comparison: NumPy vs Native Python\n",
    "\n",
    "import numpy as np      # Import NumPy for fast array operations\n",
    "import time             # Import time to measure execution speed\n",
    "\n",
    "# Step 1: Create a large dataset with 1 million numbers\n",
    "size = 1_000_000  # Underscores just improve readability: same as 1000000\n",
    "\n",
    "# Native Python list\n",
    "py_list = list(range(size))   # [0, 1, 2, ..., 999999]\n",
    "\n",
    "# NumPy array version of the same data\n",
    "np_array = np.array(py_list) # Faster, optimized array\n",
    "\n",
    "\n",
    "# Part 1: Python list operation (using list comprehension)---------------------------------------------\n",
    "start = time.time()  # Record the start time\n",
    "py_result = [x * 2 for x in py_list]  # Multiply each element by 2 (slow loop)\n",
    "\n",
    "end = time.time()  # Record the end time\n",
    "print(f\"Python list time: {end - start:.5f} seconds\")  # Print time taken\n",
    "\n",
    "\n",
    "# Part 2: NumPy vectorized operation--------------------------------------------------------------------\n",
    "start = time.time()  # Record start again for NumPy\n",
    "\n",
    "np_result = np_array * 2  # Fast vectorized multiplication\n",
    "\n",
    "end = time.time()  # Record end time\n",
    "print(f\"NumPy array time: {end - start:.5f} seconds\")  # Print time taken\n"
   ]
  },
  {
   "cell_type": "markdown",
   "id": "f1aaf5a6-deaa-4e20-aadb-93508ed0b28c",
   "metadata": {},
   "source": [
    "Build a mini CLI program to:\n",
    "  - Store and retrieve info using a dictionary\n",
    "  - Handle user input safely using exception handling\n",
    "  - Use NumPy for any number-based calculations\n",
    "\n",
    "\n",
    "\n",
    "✅ Goals:\n",
    "-📁 Store student data in a dictionary (name → marks)\n",
    "-💬 User can insert, search, or update marks\n",
    "-🔐 Handle input safely with try/except\n",
    "-🧮 Use NumPy to compute stats (mean, max, min, etc.) on all marks\n",
    "\n"
   ]
  },
  {
   "cell_type": "code",
   "execution_count": null,
   "id": "0057d9b1-dc62-43c7-bf3f-783670d7499f",
   "metadata": {},
   "outputs": [
    {
     "name": "stdout",
     "output_type": "stream",
     "text": [
      "\n",
      "=== Student Record CLI ===\n",
      "1. Add/Update Student\n",
      "2. Search Student\n",
      "3. Show Overall Statistics\n",
      "4. Exit\n"
     ]
    },
    {
     "name": "stdin",
     "output_type": "stream",
     "text": [
      "Choose an option (1-4):  1\n",
      "Enter students name Harshit\n",
      "Enter overall percentage(0-100) 100\n"
     ]
    },
    {
     "name": "stdout",
     "output_type": "stream",
     "text": [
      "✅ Record saved for Harshit .\n",
      "\n",
      "=== Student Record CLI ===\n",
      "1. Add/Update Student\n",
      "2. Search Student\n",
      "3. Show Overall Statistics\n",
      "4. Exit\n"
     ]
    },
    {
     "name": "stdin",
     "output_type": "stream",
     "text": [
      "Choose an option (1-4):  2\n",
      "Enter student name to search:  Harshit\n"
     ]
    },
    {
     "name": "stdout",
     "output_type": "stream",
     "text": [
      "Harshit s marks: 100.0 %\n",
      "\n",
      "=== Student Record CLI ===\n",
      "1. Add/Update Student\n",
      "2. Search Student\n",
      "3. Show Overall Statistics\n",
      "4. Exit\n"
     ]
    }
   ],
   "source": [
    "## a mini CLI (Command-Line Interface) program for student data handling.\n",
    "\n",
    "\n",
    "import numpy as np\n",
    "\n",
    "studentrecord = {}\n",
    "\n",
    "def add_or_update():\n",
    "    name = input(\"Enter students name\").strip()\n",
    "\n",
    "    try:\n",
    "        marks= float(input(\"Enter overall percentage(0-100)\"))\n",
    "        if not ( 0 <= marks <= 100):\n",
    "                     raise ValueError(\"Percentage must be between 0 and 100.\")\n",
    "        studentrecord[name] = marks\n",
    "        print(\"✅ Record saved for\", name, \".\")\n",
    "    except ValueError as ve:\n",
    "        print(\"❌ Invalid input:\", ve )\n",
    "          \n",
    "# 🔍 Function to search for a student\n",
    "def search():\n",
    "    name = input(\"Enter student name to search: \").strip()\n",
    "    if name in studentrecord:\n",
    "        print(name,'s marks:', studentrecord[name],\"%\")\n",
    "    else:\n",
    "        print(\"⚠️ Student not found.\")\n",
    "        \n",
    "\n",
    "# 📊 Function to show statistics using NumPy\n",
    "def show_stats():\n",
    "     if not studentrecord:\n",
    "         print(\"Nothing to analyze.\")\n",
    "         return\n",
    "         \n",
    "     # Get all marks as a NumPy array\n",
    "     marks_array = np.array(list(studentrecord.values()))\n",
    "\n",
    "     # Basic stats\n",
    "     print(\"📊 Students Statistics:\")\n",
    "     print(\"Mean:\", {marks_array.mean()})\n",
    "     print(\"Min:\", {marks_array.min()})\n",
    "     print(\"Max:\", {marks_array.max()})\n",
    "     print(\"Std_dev:\", {marks_array.std()})\n",
    "    \n",
    "# 🧩 Menu Loop\n",
    "def main():\n",
    "    while True:\n",
    "        print(\"\\n=== Student Record CLI ===\")\n",
    "        print(\"1. Add/Update Student\")\n",
    "        print(\"2. Search Student\")\n",
    "        print(\"3. Show Overall Statistics\")\n",
    "        print(\"4. Exit\")\n",
    "\n",
    "    \n",
    "        try:\n",
    "            choice = int(input(\"Choose an option (1-4): \"))\n",
    "        except ValueError:\n",
    "            print(\"❌ Please enter a number (1-4).\")\n",
    "            continue  # Ask again\n",
    "\n",
    "        if choice == 1:\n",
    "            add_or_update()\n",
    "        elif choice == 2:\n",
    "            search()\n",
    "        elif choice == 3:\n",
    "            show_stats()\n",
    "        elif choice == 4:\n",
    "            print(\"👋 Exiting program. Goodbye!\")\n",
    "            break\n",
    "\n",
    "        else:\n",
    "            print(\"❌ Invalid option. Please try again.\")\n",
    "\n",
    "# 🔁 Run the menu\n",
    "main()\n",
    "\n",
    "\n",
    "\n",
    "\n",
    "\n",
    "\n",
    "\n",
    "\n",
    "\n",
    "\n",
    "\n",
    "\n",
    "\n",
    "\n",
    "\n",
    "\n",
    "\n",
    "\n",
    "\n"
   ]
  },
  {
   "cell_type": "markdown",
   "id": "f999b63c-53bf-4fa5-8507-865582151821",
   "metadata": {},
   "source": [
    "@ LEARNINGS\n",
    "Concept\t                              Implementation\n",
    "Dictionary storage\t                  student_records = {name: marks}\n",
    "Safe input handling\t                  try/except with ValueError\n",
    "NumPy usage\t                          np.array([...]) to calculate mean, max, min, std\n",
    "CLI interaction\t                      input(), while True, numbered menu"
   ]
  }
 ],
 "metadata": {
  "kernelspec": {
   "display_name": "Python 3 (ipykernel)",
   "language": "python",
   "name": "python3"
  },
  "language_info": {
   "codemirror_mode": {
    "name": "ipython",
    "version": 3
   },
   "file_extension": ".py",
   "mimetype": "text/x-python",
   "name": "python",
   "nbconvert_exporter": "python",
   "pygments_lexer": "ipython3",
   "version": "3.13.2"
  }
 },
 "nbformat": 4,
 "nbformat_minor": 5
}
