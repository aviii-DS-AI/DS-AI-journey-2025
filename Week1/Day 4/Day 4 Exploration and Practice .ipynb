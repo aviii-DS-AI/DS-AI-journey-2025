{
 "cells": [
  {
   "cell_type": "markdown",
   "id": "3700e50b-4252-4fa0-ac00-e593320a8c28",
   "metadata": {},
   "source": [
    "🧠 Python Concepts & Practice"
   ]
  },
  {
   "cell_type": "markdown",
   "id": "d099bdc6-02dc-44b6-a290-af02ddd514ba",
   "metadata": {},
   "source": [
    "Nested Loops.....\n"
   ]
  },
  {
   "cell_type": "code",
   "execution_count": 7,
   "id": "365e5bb3-2075-4c82-af31-265a00d63140",
   "metadata": {},
   "outputs": [
    {
     "name": "stdout",
     "output_type": "stream",
     "text": [
      "21 is odd\n",
      "20 is even and less than 20\n",
      "30 is even and greater than 20\n",
      "4 is even and less than 20\n",
      "9 is odd\n"
     ]
    }
   ],
   "source": [
    "##Concept: You can nest if-else blocks inside loops to make more complex decisions.\n",
    "\n",
    "nums = [21, 20, 30, 4, 9]\n",
    "for num in nums:\n",
    "    if num % 2 == 0:\n",
    "        if num > 20:        \n",
    "            print( num, \"is even and greater than 20\")\n",
    "        else:\n",
    "            print( num,\"is even and less than 20\")\n",
    "    else:    \n",
    "        print(num,\"is odd\")\n",
    "\n",
    "        "
   ]
  },
  {
   "cell_type": "markdown",
   "id": "6e41ea46-db2d-4c9f-805c-47e461bfba88",
   "metadata": {},
   "source": [
    "✅ List Comprehensions"
   ]
  },
  {
   "cell_type": "code",
   "execution_count": 11,
   "id": "6f6d2b99-9846-4cfb-aa2f-fd81eeb003ee",
   "metadata": {},
   "outputs": [
    {
     "name": "stdout",
     "output_type": "stream",
     "text": [
      "[0, 1, 4, 9, 16, 25, 36, 49, 64, 81]\n",
      "[0, 2, 4, 6, 8, 10, 12, 14, 16, 18]\n"
     ]
    }
   ],
   "source": [
    "##Concept: A clean way to create new lists from existing iterables.\n",
    "\n",
    "squares = [x*x for x in range(10)]\n",
    "print(squares)\n",
    "\n",
    "evens = [x for x in range(20) if x % 2 ==0 ]\n",
    "print(evens)"
   ]
  },
  {
   "cell_type": "markdown",
   "id": "be8d35c5-7011-47b2-a456-011e4109ed06",
   "metadata": {},
   "source": [
    "✅ enumerate() and zip()"
   ]
  },
  {
   "cell_type": "code",
   "execution_count": 13,
   "id": "c2db5af8-0315-44df-8a38-7760082e6dd7",
   "metadata": {},
   "outputs": [
    {
     "name": "stdout",
     "output_type": "stream",
     "text": [
      "0: apple\n",
      "1: banana\n",
      "2: cherry\n",
      "Alice scored 85\n",
      "Bob scored 92\n",
      "Charlie scored 78\n"
     ]
    }
   ],
   "source": [
    "## enumerate(): Adds index to iteration.---------------\n",
    "\n",
    "fruits = ['apple', 'banana', 'cherry']\n",
    "for index, fruit in enumerate(fruits):\n",
    "    print(f\"{index}: {fruit}\")\n",
    "\n",
    "##zip(): Combines multiple iterables.-------------------\n",
    "\n",
    "names = ['Alice', 'Bob', 'Charlie']\n",
    "scores = [85, 92, 78]\n",
    "\n",
    "for name, score in zip(names, scores):\n",
    "    print(f\"{name} scored {score}\")\n"
   ]
  },
  {
   "cell_type": "markdown",
   "id": "0638810c-a824-4a3c-8ae1-479b200431ef",
   "metadata": {},
   "source": [
    "✅ Functions (Parameters, Return, Scope)\n",
    "Parameters: These are the inputs a function receives when it's called. Think of them like the ingredients you need to make a recipe. You can pass different values to the function, just like you might use different ingredients in a recipe.\n",
    "\n",
    "Return: This is what the function sends back to the caller after it's executed. It's like the final dish you create after following the recipe. The return value can be a simple value, like a number or a string, or even a more complex object.\n",
    "\n",
    "Scope: This refers to the area where a function can access variables and other resources. Think of it like a private kitchen where you can store your ingredients and cooking tools. The scope of a function determines what's available to use within that function."
   ]
  },
  {
   "cell_type": "code",
   "execution_count": 16,
   "id": "7b57422b-ac24-430e-ac87-de81f9d9894f",
   "metadata": {},
   "outputs": [
    {
     "name": "stdout",
     "output_type": "stream",
     "text": [
      "Hello, Alice!\n",
      "7\n",
      "12\n",
      "Inside function: 5\n",
      "Outside function: 10\n",
      "20\n"
     ]
    }
   ],
   "source": [
    "def greet(name):  # ← 'name' is the parameter\n",
    "    print(f\"Hello, {name}!\")\n",
    "\n",
    "greet(\"Alice\")  # ← \"Alice\" is the argument passed to 'name'\n",
    "\n",
    "\n",
    "\n",
    "def add(a, b):    ## multiple parameters( a & b )\n",
    "    print(a + b)\n",
    "\n",
    "add(3, 4)  # Output: 7\n",
    "\n",
    "#Return \n",
    "def add(a, b):\n",
    "    return a + b  # ← sends the result back\n",
    "\n",
    "result = add(5, 7)\n",
    "print(result)  # Output: 12\n",
    "\n",
    "## Scope\n",
    "x = 10  # ← global variable\n",
    "\n",
    "def show():\n",
    "    x = 5  # ← local to this function\n",
    "    print(\"Inside function:\", x)\n",
    "                                    ## Variables defined inside a function (like x = 5) stay inside. They don’t affect the x outside.\n",
    "show()\n",
    "print(\"Outside function:\", x)\n",
    "\n",
    "##to modify a global variable inside a function, you can use the global keyword—but use with caution:\n",
    "x = 10\n",
    "\n",
    "def change():\n",
    "    global x\n",
    "    x = 20\n",
    "\n",
    "change()\n",
    "print(x)  # Output: 20\n"
   ]
  },
  {
   "cell_type": "markdown",
   "id": "9223415f-04ee-47ff-909f-27a0a5f27bcc",
   "metadata": {},
   "source": [
    "🧩 Logic & Problem Solving\n",
    "\n",
    "-->1. HackerRank-Style Problems (Easy Level)"
   ]
  },
  {
   "cell_type": "code",
   "execution_count": null,
   "id": "5afba4bc-0c8e-4ced-aebd-4a023a8e05d7",
   "metadata": {},
   "outputs": [],
   "source": [
    "##You’re given two lists a and b, each with 3 integers. Compare each index:\n",
    "#+1 point to whoever has the higher value at that position.\n",
    "#No points if equal.\n",
    "#Return the total points as a list: [a_score, b_score].\n",
    "\n",
    "def compareTriplets(a, b):\n",
    "    score_a = 0\n",
    "    score_b = 0\n",
    "\n",
    "    for i in range(3):\n",
    "        if a[i] > b[i]:\n",
    "            score_a += 1\n",
    "        elif a[i] < b[i]:\n",
    "            score_b += 1\n",
    "\n",
    "    return [score_a, score_b]\n",
    "\n",
    "# Test:\n",
    "print(compareTriplets([5, 6, 7], [3, 6, 10]))  # Output: [1, 1]\n",
    "\n",
    "\n"
   ]
  },
  {
   "cell_type": "markdown",
   "id": "b175f5e1-e625-45e8-aa15-22907addc24e",
   "metadata": {},
   "source": [
    "--> 2. Logic-Based Puzzles (with Loops + Conditionals)\n",
    "   "
   ]
  },
  {
   "cell_type": "code",
   "execution_count": 26,
   "id": "9e2da3b7-4515-4e79-9fa0-22b24a7b1d61",
   "metadata": {},
   "outputs": [
    {
     "name": "stdout",
     "output_type": "stream",
     "text": [
      "1 just a number\n",
      "2 just a number\n",
      "3 Fizz\n",
      "4 just a number\n",
      "5 Buzz\n",
      "6 Fizz\n",
      "7 just a number\n",
      "8 just a number\n",
      "9 Fizz\n",
      "10 Buzz\n",
      "11 just a number\n",
      "12 Fizz\n",
      "13 just a number\n",
      "14 just a number\n",
      "15 FizzBuzz\n",
      "15 Buzz\n",
      "16 just a number\n",
      "17 just a number\n",
      "18 Fizz\n",
      "19 just a number\n",
      "20 Buzz\n",
      "21 Fizz\n",
      "22 just a number\n",
      "23 just a number\n",
      "24 Fizz\n",
      "25 Buzz\n",
      "26 just a number\n",
      "27 Fizz\n",
      "28 just a number\n",
      "29 just a number\n",
      "30 FizzBuzz\n",
      "30 Buzz\n",
      "(4, 6)\n"
     ]
    }
   ],
   "source": [
    "#Puzzle 1: FizzBuzz Variant\n",
    "#Print numbers from 1 to 30.\n",
    "#If divisible by 3, print \"Fizz\".\n",
    "#If divisible by 5, print \"Buzz\".\n",
    "#If both, print \"FizzBuzz\".\n",
    "#Else, just print the number\n",
    "\n",
    "for i in range (1, 31):\n",
    "    if i % 5 ==0 and i % 3 ==0 : ## has to be above...!\n",
    "        print(i,\"FizzBuzz\")\n",
    "    if i % 5 == 0:\n",
    "        print(i,\"Buzz\")\n",
    "    elif i % 3 == 0:\n",
    "        print(i,\"Fizz\")\n",
    "    else:\n",
    "        print(i,\"just a number\")\n",
    "\n",
    "\n",
    "##Puzzle 2: Count Even and Odd Digits\n",
    "## Given a number, count how many digits are even and how many are odd.\n",
    "def count_even_odd(num):\n",
    "    even = odd = 0\n",
    "    for digit in str(num):\n",
    "        if int(digit) % 2 == 0:\n",
    "            even += 1\n",
    "        else:\n",
    "            odd += 1\n",
    "    return even, odd\n",
    "\n",
    "print(count_even_odd(1292338763))  # Output: (4, 6)\n",
    "\n"
   ]
  },
  {
   "cell_type": "markdown",
   "id": "718b7c77-b958-41c3-916a-fda74fe1f8cc",
   "metadata": {},
   "source": [
    "----> 3. Debugging Challenge"
   ]
  },
  {
   "cell_type": "code",
   "execution_count": 28,
   "id": "e5c48bf6-4eab-4091-85bd-81828730f9c5",
   "metadata": {},
   "outputs": [
    {
     "name": "stdout",
     "output_type": "stream",
     "text": [
      "10\n",
      "18\n"
     ]
    }
   ],
   "source": [
    "## Buggy...!!\n",
    "def mystery(x, y):\n",
    "    if x = y:\n",
    "        return x + y\n",
    "    else:\n",
    "        return x - y\n",
    "\n",
    "print(mystery(5, 5))\n",
    "\n",
    "\n",
    "\n",
    "def myst(a, b):\n",
    "    if a == b:\n",
    "        return a+b\n",
    "    else:\n",
    "        return a-b\n",
    "\n",
    "print(myst(9, 9))"
   ]
  },
  {
   "cell_type": "markdown",
   "id": "ca9fdf62-dd40-495f-9d5e-0825ddb2ab0f",
   "metadata": {},
   "source": [
    "📊 Mini Project / Data Wrangling\n"
   ]
  },
  {
   "cell_type": "code",
   "execution_count": 37,
   "id": "25479467-223c-490b-94b7-354f0575c303",
   "metadata": {},
   "outputs": [
    {
     "name": "stdout",
     "output_type": "stream",
     "text": [
      "      name  age         city  salary\n",
      "0    Alice   29     New York   85000\n",
      "1      Bob   35  Los Angeles   92000\n",
      "2  Charlie   22      Chicago   55000\n",
      "3    Diana   31     New York   99000\n",
      "4    Ethan   27       Austin   71000\n",
      "5      Fay   24      Chicago   63000\n",
      "6   George   45  Los Angeles  105000\n",
      "7   Hannah   30     New York   87000\n",
      "\n",
      "1------------------------------------------------------------------------------\n",
      "Index(['name', 'age', 'city', 'salary'], dtype='object')\n",
      "\n",
      "2------------------------------------------------------------------------------\n",
      "<class 'pandas.core.frame.DataFrame'>\n",
      "RangeIndex: 10 entries, 0 to 9\n",
      "Data columns (total 4 columns):\n",
      " #   Column  Non-Null Count  Dtype \n",
      "---  ------  --------------  ----- \n",
      " 0   name    10 non-null     object\n",
      " 1   age     10 non-null     int64 \n",
      " 2   city    10 non-null     object\n",
      " 3   salary  10 non-null     int64 \n",
      "dtypes: int64(2), object(2)\n",
      "memory usage: 452.0+ bytes\n",
      "None\n",
      "\n",
      "3------------------------------------------------------------------------------\n",
      "             age         salary\n",
      "count  10.000000      10.000000\n",
      "mean   30.200000   81900.000000\n",
      "std     6.545567   16676.330532\n",
      "min    22.000000   55000.000000\n",
      "25%    26.250000   68750.000000\n",
      "50%    29.500000   86000.000000\n",
      "75%    32.500000   93500.000000\n",
      "max    45.000000  105000.000000\n",
      "\n",
      "4------------------------------------------------------------------------------\n",
      "     name  age         city  salary\n",
      "1     Bob   35  Los Angeles   92000\n",
      "3   Diana   31     New York   99000\n",
      "6  George   45  Los Angeles  105000\n",
      "9    Jade   33      Chicago   94000\n",
      "\n",
      "5------------------------------------------------------------------------------\n",
      "    name  age      city  salary\n",
      "3  Diana   31  New York   99000\n",
      "\n",
      "6------------------------------------------------------------------------------\n",
      "city\n",
      "Austin         69500.000000\n",
      "Chicago        70666.666667\n",
      "Los Angeles    98500.000000\n",
      "New York       90333.333333\n",
      "Name: salary, dtype: float64\n"
     ]
    }
   ],
   "source": [
    "##---> Basic CSV Handling\n",
    "\n",
    "import pandas as pd\n",
    "df = pd.read_csv(\"people.csv\")\n",
    "\n",
    "print(df.head(8)) ## Show first 8 rows\n",
    "print(\"\\n1------------------------------------------------------------------------------\")\n",
    "\n",
    "print(df.columns)   # All column names\n",
    "print(\"\\n2------------------------------------------------------------------------------\")\n",
    "\n",
    "print(df.info())        # Summary: non-null, dtypes\n",
    "print(\"\\n3------------------------------------------------------------------------------\")\n",
    "\n",
    "print(df.describe())    # Stats for numeric columns\n",
    "print(\"\\n4------------------------------------------------------------------------------\")\n",
    "\n",
    "# Filter people older than 30\n",
    "print(df[df['age'] > 30])\n",
    "print(\"\\n5------------------------------------------------------------------------------\")\n",
    "\n",
    "# Filter New York employees with salary > 90000\n",
    "print(df[(df['city'] == 'New York') & (df['salary'] > 90000)])\n",
    "print(\"\\n6------------------------------------------------------------------------------\")\n",
    "\n",
    "# Average salary by city\n",
    "print(df.groupby('city')['salary'].mean())\n",
    "\n",
    "\n"
   ]
  },
  {
   "cell_type": "markdown",
   "id": "11aa15dc-133d-4224-a9d9-aeb753ca98b7",
   "metadata": {},
   "source": [
    "Extraaaas.........!\n",
    "- [1] Explore `lambda`, `map()`, `filter()` functions\n",
    "- [2] A small coding challenge using recursion"
   ]
  },
  {
   "cell_type": "code",
   "execution_count": 38,
   "id": "a307eddc-1820-4fca-858f-f024bfede149",
   "metadata": {},
   "outputs": [
    {
     "name": "stdout",
     "output_type": "stream",
     "text": [
      "25\n",
      "[1, 4, 9, 16]\n",
      "[2, 4, 6]\n",
      "120\n"
     ]
    }
   ],
   "source": [
    "# lambda: Anonymous (one-line) function\n",
    "square = lambda x: x * x\n",
    "print(square(5))  # Output: 25\n",
    "\n",
    "\n",
    "## map(): Apply a function to all items in an iterable\n",
    "nums = [1, 2, 3, 4]\n",
    "squares = list(map(lambda x: x**2, nums))\n",
    "print(squares)  # [1, 4, 9, 16]\n",
    "\n",
    "##  filter(): Keep only items that match a condition\n",
    "nums = [1, 2, 3, 4, 5, 6]\n",
    "evens = list(filter(lambda x: x % 2 == 0, nums))\n",
    "print(evens)  # [2, 4, 6]\n",
    "\n",
    "##Classic recursion : Factorial\n",
    "def factorial(n):\n",
    "    if n == 0 or n == 1:\n",
    "        return 1\n",
    "    return n * factorial(n - 1)\n",
    "\n",
    "print(factorial(5))  # Output: 120\n",
    "\n"
   ]
  },
  {
   "cell_type": "markdown",
   "id": "0379ba2f-8294-4a85-9e2e-b0f33a03e9dc",
   "metadata": {},
   "source": [
    "####BUT got into a doubt: How this recursion repeats itself to make to n =1\n",
    "---> Came to the solution: \"factorial(n- 1)\" keeps calling itself with a smaller number until it hits the base case (n == 1), then starts returning back up.\n",
    "Like this...\n",
    "factorial(5) →\n",
    "return 5 * factorial(4)\n",
    "\n",
    "factorial(4) →\n",
    "return 4 * factorial(3)\n",
    "\n",
    "factorial(3) →\n",
    "return 3 * factorial(2)\n",
    "\n",
    "factorial(2) →\n",
    "return 2 * factorial(1)\n",
    "\n",
    "factorial(1) →\n",
    "✅ Base case! return 1\n"
   ]
  },
  {
   "cell_type": "code",
   "execution_count": null,
   "id": "7b10fc3d-36fe-418d-91c7-7a2ab80cc56e",
   "metadata": {},
   "outputs": [],
   "source": []
  }
 ],
 "metadata": {
  "kernelspec": {
   "display_name": "Python 3 (ipykernel)",
   "language": "python",
   "name": "python3"
  },
  "language_info": {
   "codemirror_mode": {
    "name": "ipython",
    "version": 3
   },
   "file_extension": ".py",
   "mimetype": "text/x-python",
   "name": "python",
   "nbconvert_exporter": "python",
   "pygments_lexer": "ipython3",
   "version": "3.13.2"
  }
 },
 "nbformat": 4,
 "nbformat_minor": 5
}
