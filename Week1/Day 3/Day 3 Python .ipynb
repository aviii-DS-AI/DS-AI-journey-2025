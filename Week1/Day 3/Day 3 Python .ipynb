{
 "cells": [
  {
   "cell_type": "markdown",
   "id": "97ff2152-d5f8-4e32-bf22-4c4c9265e259",
   "metadata": {},
   "source": [
    "🔁 1. Loops: for and while"
   ]
  },
  {
   "cell_type": "code",
   "execution_count": null,
   "id": "632abd6a-0baf-4dcb-a54a-e405913cf972",
   "metadata": {},
   "outputs": [],
   "source": [
    "##  for loop – when you know the number of iterations:----------------------\n",
    "for i in range(5):\n",
    "    print(\"Hello\", i)\n",
    "    \n",
    "##while loop – when you loop until a condition is false:------------------------\n",
    "count = 0\n",
    "while count < 3:\n",
    "    print(\"Count:\", count)\n",
    "    count += 1\n"
   ]
  },
  {
   "cell_type": "markdown",
   "id": "6ec5183d-ae56-4918-a184-01ff22e1f43b",
   "metadata": {},
   "source": [
    "🔁 2. Practice Nested Loops"
   ]
  },
  {
   "cell_type": "code",
   "execution_count": 2,
   "id": "85f41163-f8be-49ff-bb1a-3ffd471ed318",
   "metadata": {},
   "outputs": [
    {
     "name": "stdout",
     "output_type": "stream",
     "text": [
      "*\n",
      "**\n",
      "***\n",
      "****\n",
      "*****\n"
     ]
    }
   ],
   "source": [
    "## Pattern Printing:---------------------------------------\n",
    "for i in range(1, 6):        # Outer loop\n",
    "    for j in range(1, i + 1):  # Inner loop\n",
    "        print(\"*\", end=\"\")\n",
    "    print()  # newline\n",
    "\n"
   ]
  },
  {
   "cell_type": "markdown",
   "id": "23c90a07-5762-4de4-b700-5fe989fcd985",
   "metadata": {},
   "source": [
    " 🚦 3. Use break, continue, and pass\n",
    " "
   ]
  },
  {
   "cell_type": "code",
   "execution_count": 4,
   "id": "3a0382e2-591c-4ea4-9dc2-d2f3cff08fa2",
   "metadata": {},
   "outputs": [
    {
     "name": "stdout",
     "output_type": "stream",
     "text": [
      "0\n",
      "1\n",
      "2\n",
      "0\n",
      "1\n",
      "3\n",
      "4\n"
     ]
    }
   ],
   "source": [
    "## break – exits the loop:--------------------------------------\n",
    "for i in range(5):\n",
    "    if i == 3:\n",
    "        break\n",
    "    print(i)\n",
    "\n",
    "## continue – skips current iteration:-----------------------------\n",
    "for i in range(5):\n",
    "    if i == 2:\n",
    "        continue\n",
    "    print(i)\n",
    "    \n",
    "## pass – does nothing (placeholder):------------------------------\n",
    "for i in range(3):\n",
    "    pass  # maybe code later\n"
   ]
  },
  {
   "cell_type": "markdown",
   "id": "cb50518e-ddb5-4629-b555-495e4f170d4e",
   "metadata": {},
   "source": [
    "🧰 4. Define and Use Functions"
   ]
  },
  {
   "cell_type": "code",
   "execution_count": 5,
   "id": "f2f5bc4a-cd2a-4eab-a613-53d12e18adc5",
   "metadata": {},
   "outputs": [
    {
     "name": "stdout",
     "output_type": "stream",
     "text": [
      "Hello from function!\n",
      "16\n"
     ]
    }
   ],
   "source": [
    "##🟩 A basic function (no return):-----------------------------\n",
    "def greet():\n",
    "    print(\"Hello from function!\")\n",
    "\n",
    "greet()\n",
    "\n",
    "##🟦 With return:------------------------------------------------\n",
    "def square(x):\n",
    "    return x * x\n",
    "\n",
    "result = square(4)\n",
    "print(result)\n",
    "\n"
   ]
  },
  {
   "cell_type": "markdown",
   "id": "2519e89b-c0c1-44ff-9857-5f2f8b651985",
   "metadata": {},
   "source": [
    "🔢 5. Positional, Default, and Keyword Arguments"
   ]
  },
  {
   "cell_type": "code",
   "execution_count": 8,
   "id": "a2c280de-8c53-42c3-8a23-a21ee0f30120",
   "metadata": {},
   "outputs": [
    {
     "name": "stdout",
     "output_type": "stream",
     "text": [
      "8\n",
      "Hello, Guest!\n",
      "Hello, Alice!\n",
      "Tom is 25 years old.\n"
     ]
    }
   ],
   "source": [
    "## Positional:-----------------------------\n",
    "def add(a, b):\n",
    "    return a + b\n",
    "print(add(3, 5))  # a=3, b=5\n",
    "\n",
    "## Default:---------------------------------\n",
    "def greet(name=\"Guest\"):\n",
    "    print(f\"Hello, {name}!\")\n",
    "\n",
    "greet()          # Hello, Guest!\n",
    "greet(\"Alice\")   # Hello, Alice!\n",
    "\n",
    "##Keyword:------------------------------------\n",
    "def info(name, age):\n",
    "    print(f\"{name} is {age} years old.\")\n",
    "\n",
    "info(age=25, name=\"Tom\")\n"
   ]
  },
  {
   "cell_type": "markdown",
   "id": "b980d5e4-98fb-44d8-9f40-4a5b0ed14951",
   "metadata": {},
   "source": [
    "✨ **6. *args and kwargs"
   ]
  },
  {
   "cell_type": "code",
   "execution_count": 10,
   "id": "eebb6d3d-82b0-47d8-bbe3-4aa049f39b3d",
   "metadata": {},
   "outputs": [
    {
     "name": "stdout",
     "output_type": "stream",
     "text": [
      "100\n",
      "name: Alice\n",
      "age: 22\n"
     ]
    }
   ],
   "source": [
    "## *args – for variable number of positional arguments:----------------\n",
    "def total(*args):\n",
    "    return sum(args)\n",
    "\n",
    "print(total(1, 2, 3, 94))  # Output: 10\n",
    "\n",
    "##**kwargs – for variable number of keyword arguments:--------------------\n",
    "def show_info(**kwargs):\n",
    "    for key, value in kwargs.items():\n",
    "        print(f\"{key}: {value}\")\n",
    "\n",
    "show_info(name=\"Alice\", age=22)\n"
   ]
  },
  {
   "cell_type": "code",
   "execution_count": null,
   "id": "be8482cf-24ea-4a2b-9ee2-0cf6f427b844",
   "metadata": {},
   "outputs": [],
   "source": [
    "🧠 Logic Practice\n",
    "\n",
    "\n"
   ]
  },
  {
   "cell_type": "code",
   "execution_count": 11,
   "id": "4b090156-1cc5-41e4-a8d7-313a2d032ea5",
   "metadata": {},
   "outputs": [
    {
     "name": "stdout",
     "output_type": "stream",
     "text": [
      "[0, 1, 1, 2, 3, 5, 8, 13, 21, 34]\n",
      "True\n",
      "False\n"
     ]
    }
   ],
   "source": [
    "##🔢 Fibonacci Series Generator--------------------------------------------\n",
    "#Logic: Start with 0 and 1, and keep adding the last two numbers.\n",
    "def generate_fibonacci(n):\n",
    "    fib = [0, 1]\n",
    "    for i in range(2, n):\n",
    "        next_val = fib[-1] + fib[-2]\n",
    "        fib.append(next_val)\n",
    "    return fib[:n]\n",
    "\n",
    "print(generate_fibonacci(10))\n",
    "\n",
    "#🧪 Prime Number Checker-----------------------------------------------------\n",
    "#Logic: A prime number has only 2 factors — 1 and itself\n",
    "def is_prime(num):\n",
    "    if num <= 1:\n",
    "        return False\n",
    "    for i in range(2, int(num**0.5) + 1): \n",
    "        if num % i == 0:\n",
    "            return False\n",
    "    return True\n",
    "\n",
    "print(is_prime(29))  # True\n",
    "print(is_prime(18))  # False\n",
    "\n",
    "#🗣️ Count Frequency of Each Word in a Sentence---------------------------------\n",
    "# Logic: Use a dictionary to track word counts\n",
    "def word_frequency(sentence):\n",
    "    words = sentence.lower().split()\n",
    "    freq = {}\n",
    "\n",
    "    for word in words:\n",
    "        word = word.strip(\".,!?\")  # Clean punctuation\n",
    "        freq[word] = freq.get(word, 0) + 1\n",
    "\n",
    "    return freq\n",
    "\n",
    "text = \"Python is fun and Python is powerful.\"\n",
    "print(word_frequency(text))\n",
    "\n"
   ]
  },
  {
   "cell_type": "code",
   "execution_count": null,
   "id": "5d225341-16a2-49fb-ad61-e9ac542815cb",
   "metadata": {},
   "outputs": [],
   "source": [
    "Mini Data Wrangling with a real-world-ish example "
   ]
  },
  {
   "cell_type": "code",
   "execution_count": 13,
   "id": "de62145c-a2d8-41b5-9dc8-f8ae4be0b5a4",
   "metadata": {},
   "outputs": [
    {
     "name": "stdout",
     "output_type": "stream",
     "text": [
      "Charlie - 92 marks\n",
      "Alice - 88 marks\n",
      "Eva - 85 marks\n",
      "Bob - 75 marks\n",
      "David - 70 marks\n",
      "Alice - 16 years old\n",
      "Charlie - 17 years old\n",
      "Eva - 16 years old\n"
     ]
    }
   ],
   "source": [
    "##List of Dictionaries------------------------------------------------------------\n",
    "students = [\n",
    "    {\"name\": \"Alice\", \"age\": 16, \"marks\": 88},\n",
    "    {\"name\": \"Bob\", \"age\": 15, \"marks\": 75},\n",
    "    {\"name\": \"Charlie\", \"age\": 17, \"marks\": 92},\n",
    "    {\"name\": \"David\", \"age\": 14, \"marks\": 70},\n",
    "    {\"name\": \"Eva\", \"age\": 16, \"marks\": 85}         ]\n",
    "\n",
    "##Sort by marks (descending)----------------------------------------------------\n",
    "sorted_by_marks = sorted(students, key=lambda x: x['marks'], reverse=True)  #The key= tells Python which value to look at when comparing items.\n",
    "for s in sorted_by_marks:                                                   #lambda is a mini function written in one line — without a name.\n",
    "    print(f\"{s['name']} - {s['marks']} marks\")                              #A lambda function is a small anonymous function.\n",
    "                                                                     #A lambda function can take any number of arguments, but can only have one expression.\n",
    "\n",
    "\n",
    "\n",
    "##Filter where age > 15----------------------------------------------------------\n",
    "filtered_students = [s for s in students if s['age'] > 15]\n",
    "\n",
    "for s in filtered_students:\n",
    "    print(f\"{s['name']} - {s['age']} years old\")\n",
    "\n",
    "\n",
    "\n"
   ]
  },
  {
   "cell_type": "markdown",
   "id": "3048a4ec-d873-4513-97eb-fb95768ecce6",
   "metadata": {},
   "source": [
    "Extras........!!!!!!"
   ]
  },
  {
   "cell_type": "code",
   "execution_count": 25,
   "id": "776ad8eb-1172-41bc-a48e-9322d38da397",
   "metadata": {},
   "outputs": [
    {
     "name": "stdout",
     "output_type": "stream",
     "text": [
      "     * \n",
      "    * * \n",
      "   * * * \n",
      "  * * * * \n",
      " * * * * * \n"
     ]
    }
   ],
   "source": [
    "#Centered Pyramid Pattern\n",
    "\n",
    "for i in range(1, 6):\n",
    "    print(\" \" * (5 - i) , \"* \" * i)\n"
   ]
  },
  {
   "cell_type": "code",
   "execution_count": 26,
   "id": "427c58de-a033-4de2-ac58-42094c5e5033",
   "metadata": {},
   "outputs": [
    {
     "name": "stdout",
     "output_type": "stream",
     "text": [
      "Mini Calculator\n",
      "1. Add\n",
      "2. Subtract\n",
      "3. Multiply\n",
      "4. Divide\n"
     ]
    },
    {
     "name": "stdin",
     "output_type": "stream",
     "text": [
      "Choose (1-4):  2\n",
      "Enter first number:  50\n",
      "Enter second number:  20\n"
     ]
    },
    {
     "name": "stdout",
     "output_type": "stream",
     "text": [
      "Result: 30.0\n"
     ]
    }
   ],
   "source": [
    "#  Calculator........✨😭\n",
    "\n",
    "def add(x, y):\n",
    "    return x + y\n",
    "\n",
    "def subtract(x, y):\n",
    "    return x - y\n",
    "\n",
    "def multiply(x, y):\n",
    "    return x * y\n",
    "\n",
    "def divide(x, y):\n",
    "    return x / y if y != 0 else \"Cannot divide by zero\"\n",
    "\n",
    "# Menu\n",
    "print(\"Mini Calculator\")\n",
    "print(\"1. Add\\n2. Subtract\\n3. Multiply\\n4. Divide\")    #  \\n makes afterward to another line.!\n",
    "\n",
    "choice = input(\"Choose (1-4): \")\n",
    "a = float(input(\"Enter first number: \"))\n",
    "b = float(input(\"Enter second number: \"))\n",
    "\n",
    "if choice == '1':\n",
    "    print(\"Result:\", add(a, b))\n",
    "elif choice == '2':\n",
    "    print(\"Result:\", subtract(a, b))\n",
    "elif choice == '3':\n",
    "    print(\"Result:\", multiply(a, b))\n",
    "elif choice == '4':\n",
    "    print(\"Result:\", divide(a, b))\n",
    "else:\n",
    "    print(\"Invalid choice\")\n"
   ]
  },
  {
   "cell_type": "code",
   "execution_count": 38,
   "id": "c86bf0bb-816b-436c-9b86-0256cfecaa7a",
   "metadata": {},
   "outputs": [
    {
     "name": "stdout",
     "output_type": "stream",
     "text": [
      "Alice is  25  years old.\n",
      "Name: Alice\n",
      "Age: 25\n",
      "Pet: Indian Spitz\n",
      "Hobby: Reading\n",
      "Gender: Gay\n"
     ]
    }
   ],
   "source": [
    "# *Example without **kwargs\n",
    "def describe_person(name, age):\n",
    "    print(name, \"is \", age, \" years old.\")\n",
    "\n",
    "describe_person(\"Alice\", 25)\n",
    "\n",
    "# *Example with **kwargs\n",
    "def describe_person(**kwargs):\n",
    "    for key, value in kwargs.items():\n",
    "        print(f\"{key.capitalize()}: {value}\")\n",
    "\n",
    "describe_person(name=\"Alice\", age=25, Pet=\"Indian Spitz\", hobby=\"Reading\", Gender=\"Gay\")\n",
    "\n"
   ]
  },
  {
   "cell_type": "code",
   "execution_count": null,
   "id": "433ecf7f-af60-4da1-bcff-ce4de1eb495c",
   "metadata": {},
   "outputs": [],
   "source": []
  }
 ],
 "metadata": {
  "kernelspec": {
   "display_name": "Python 3 (ipykernel)",
   "language": "python",
   "name": "python3"
  },
  "language_info": {
   "codemirror_mode": {
    "name": "ipython",
    "version": 3
   },
   "file_extension": ".py",
   "mimetype": "text/x-python",
   "name": "python",
   "nbconvert_exporter": "python",
   "pygments_lexer": "ipython3",
   "version": "3.13.2"
  }
 },
 "nbformat": 4,
 "nbformat_minor": 5
}
