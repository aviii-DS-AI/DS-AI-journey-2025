{
 "cells": [
  {
   "cell_type": "markdown",
   "id": "6e25d4f0-7d86-4a2a-8b38-3d7150406df3",
   "metadata": {},
   "source": [
    "Day 2: Data structures and Logic Building"
   ]
  },
  {
   "cell_type": "code",
   "execution_count": 35,
   "id": "ac746bbf-7f42-4755-b68e-1b57daa68c24",
   "metadata": {
    "scrolled": true
   },
   "outputs": [
    {
     "name": "stdout",
     "output_type": "stream",
     "text": [
      "2\n",
      "a\n",
      "Harshit\n",
      "f\n",
      "[1, 2, 3, 4]\n",
      "[0, 1, 2, 3, 4, 5, 6]\n",
      "[3, 4, 5, 6, 7, 8, 9]\n",
      "[0, 2, 4, 6, 8]\n",
      "['a', 'b', 'c', 'd', 'e', 'f', 'Z']\n",
      "['a', 'b', 'c', 'd', 'e', 'f']\n",
      "['a', 'b', 'c', 'd', 'e']\n",
      "X\n",
      "[1, 'Harshit', True]\n"
     ]
    }
   ],
   "source": [
    "## List: (mutable, indexed data type)\n",
    "my_list = []\n",
    "numbers= [ 0, 1, 2, 3, 4, 5, 6, 7, 8, 9] \n",
    "alphabets= [ 'a', 'b', 'c', 'd', 'e', 'f']\n",
    "Mixed= [1 , \"Harshit\", True, 'X' ]\n",
    "\n",
    "## Indexing\n",
    "print(numbers[2])\n",
    "print(alphabets[0])\n",
    "print(Mixed[1])\n",
    "print(alphabets[-1])\n",
    "\n",
    "## Slicing \n",
    "print(numbers[1:5])  # [ from: to : steps ]\n",
    "print(numbers[ :7])\n",
    "print(numbers[3: ])\n",
    "print(numbers[ ::2])\n",
    "\n",
    "## Appending\n",
    "alphabets.append(\"Z\")\n",
    "print(alphabets)\n",
    "\n",
    "\n",
    "## Removing\n",
    "alphabets.remove(\"Z\")  ##By value\n",
    "print(alphabets)\n",
    "\n",
    "del alphabets[-1]  ## By indexing\n",
    "print(alphabets)\n",
    "\n",
    "x= Mixed.pop() ## removes *last item*\n",
    "print(x)\n",
    "print(Mixed)"
   ]
  },
  {
   "cell_type": "code",
   "execution_count": 51,
   "id": "7310ad6c-ec82-4058-8a7a-5176f1a26b4a",
   "metadata": {},
   "outputs": [
    {
     "name": "stdout",
     "output_type": "stream",
     "text": [
      "Hello Harshit\n",
      "{0, 1, 2, 3, 4, 5, 6, 7, 'Harshit Daddy', 8, 9, 'Hehehee'}\n",
      "{6, 7}\n",
      "{1, 2, 3, 4, 5, 'Harshit Daddy'}\n",
      "Alice 20\n",
      "name --> Alice\n",
      "age --> 20\n",
      "courses --> ['Math', 'CS']\n",
      "20\n"
     ]
    }
   ],
   "source": [
    "##Tuple (immutable sequence of data)\n",
    "\n",
    "\n",
    "Tuple= (1,2,3,\"Hello Harshit\")\n",
    "print(Tuple[3])\n",
    "## Usage\n",
    "#Fixed data that shouldn’t change\n",
    "#As dictionary keys\n",
    "#Return multiple values from a function\n",
    "\n",
    "\n",
    "\n",
    "\n",
    "## Set( Unordered set of unique elements)\n",
    "x={1,2,3,4,5,6,7,\"Harshit Daddy\"}\n",
    "y = {6,7,8,9,0,\"Hehehee\"}\n",
    "print(x|y)\n",
    "print(x&y)\n",
    "print(x-y)\n",
    "#Usage\n",
    "#Removing duplicates\n",
    "#Membership tests (fast)\n",
    "#Set math (union, intersection, etc.)\n",
    "\n",
    "## DICTIONARY (Dict): Key:value Pair\n",
    "student = {\"name\": \"Alice\", \"age\": 20, \"courses\": [\"Math\", \"CS\"] }\n",
    "print(student[\"name\"],student[\"age\"])  # Output: Alice, 20\n",
    "\n",
    "#looping\n",
    "for key,value in student.items():\n",
    "    print(key,\"-->\",value)\n",
    "    \n",
    "# Nested Dictionary\n",
    "Heros= { \"Hero1\":{\"Name\":\"Tony\",\"age\":20}, \"Hero2\":{\"Name\":\"Peter\",\"age\":19}}\n",
    "print(Heros[\"Hero1\"][\"age\"])\n",
    "###✅ Usage:\n",
    "#Fast data lookup\n",
    "#JSON-like structured data\n",
    "#Key-value storage\n",
    "\n"
   ]
  },
  {
   "cell_type": "code",
   "execution_count": 36,
   "id": "693151b4-ccd7-4661-ba4d-aa42c1bd6e5d",
   "metadata": {},
   "outputs": [
    {
     "name": "stdout",
     "output_type": "stream",
     "text": [
      "*\n",
      "**\n",
      "***\n",
      "****\n",
      "*****\n",
      "tihsraH\n",
      "[90, 45, 34, 99, 10]\n",
      "[10, 99, 34, 45, 90]\n",
      "5 10\n",
      "10 5\n",
      "5 7\n"
     ]
    }
   ],
   "source": [
    "## Logic Building Practices\n",
    "\n",
    "#Right angled Triangle pattern---------------\n",
    "for i in range(1,6):\n",
    "    print(i *'*')\n",
    "    \n",
    "# Reversing-----------------------------------\n",
    "s='Harshit'\n",
    "reversed_s = s[ ::-1]   #string\n",
    "print(reversed_s)\n",
    "\n",
    "\n",
    "list=[90, 45, 34, 99, 10]  # List\n",
    "print(list)\n",
    "list.reverse()\n",
    "print(list)\n",
    "\n",
    "#Swapping values( without temp variables)-------\n",
    "a=5\n",
    "b=10\n",
    "print(a,b)\n",
    "a,b= b,a\n",
    "print(a,b)\n",
    "\n",
    "  # Numbers only\n",
    "x=7\n",
    "y=5\n",
    "x= x+y\n",
    "y= x-y\n",
    "x= x-y\n",
    "print(x,y)"
   ]
  },
  {
   "cell_type": "markdown",
   "id": "e58a4dde-bfb5-4eab-b8c2-8dfabce34937",
   "metadata": {},
   "source": [
    "🍆Mini Challenges........."
   ]
  },
  {
   "cell_type": "code",
   "execution_count": 62,
   "id": "17db5144-f3fe-4c81-ac28-ea475827ad20",
   "metadata": {},
   "outputs": [
    {
     "name": "stdout",
     "output_type": "stream",
     "text": [
      "Vowel count: 8\n",
      "min value: 1\n",
      "max value: 9\n",
      "{'a': 1, 'b': 3, 'd': 9, 'c': 4}\n",
      "[1, 2, 3, 4, 5]\n"
     ]
    }
   ],
   "source": [
    "##Vowel counter\n",
    "text= \"Harshit is a handsome hunk\"\n",
    "vowels= \"aeiouAEIOU\"\n",
    "ctr=0\n",
    "for char in text:\n",
    "    if char in vowels:\n",
    "        ctr+= 1\n",
    "print(\"Vowel count:\",ctr) \n",
    "\n",
    "\n",
    "## Max min without function\n",
    "num= [1, 2, 4, 7, 9]\n",
    "\n",
    "max = num[0]\n",
    "min = num[0]\n",
    "\n",
    "for n in num:\n",
    "    if n>max:\n",
    "        max= n \n",
    "    if n<min:\n",
    "        min= n\n",
    "print(\"min value:\",min)\n",
    "print(\"max value:\",max)\n",
    "# You learn: Basic comparison logic and why initializing with the first element is smart.\n",
    "\n",
    "## Merging Dicts\n",
    "dict1 = {\"a\": 1, \"b\": 2, \"d\":9 }\n",
    "dict2 = {\"b\": 3, \"c\": 4}\n",
    "\n",
    "merged = {**dict1, **dict2}\n",
    "print(merged)\n",
    "# You learn: Dictionary unpacking (**). Last dict wins on key conflict.\n",
    "\n",
    "## Duplicate removal\n",
    "del list  # This deletes your custom variable and restores the built-in\n",
    "nums = [1, 2, 2, 3, 4, 4, 5]\n",
    "unique = list(set(nums))  #Sets for uniqueness\n",
    "print(unique)\n",
    "\n",
    "\n",
    "\n",
    "\n",
    "\n"
   ]
  },
  {
   "cell_type": "code",
   "execution_count": null,
   "id": "e2cbb862-a65f-4a35-a766-c0f9292f8708",
   "metadata": {},
   "outputs": [],
   "source": []
  }
 ],
 "metadata": {
  "kernelspec": {
   "display_name": "Python 3 (ipykernel)",
   "language": "python",
   "name": "python3"
  },
  "language_info": {
   "codemirror_mode": {
    "name": "ipython",
    "version": 3
   },
   "file_extension": ".py",
   "mimetype": "text/x-python",
   "name": "python",
   "nbconvert_exporter": "python",
   "pygments_lexer": "ipython3",
   "version": "3.13.2"
  }
 },
 "nbformat": 4,
 "nbformat_minor": 5
}
