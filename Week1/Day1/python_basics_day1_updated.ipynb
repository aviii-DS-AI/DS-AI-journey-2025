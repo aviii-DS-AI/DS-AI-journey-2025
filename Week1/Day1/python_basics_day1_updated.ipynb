{
 "cells": [
  {
   "cell_type": "markdown",
   "id": "f84e0057",
   "metadata": {},
   "source": [
    "# 📓 Day 1: Python Basics + Intro to DS/AI\n",
    "Welcome to your first day! Let's warm up."
   ]
  },
  {
   "cell_type": "markdown",
   "id": "add8aa8a",
   "metadata": {},
   "source": [
    "## 🧠 Why Data Science / AI?\n",
    "Write down your thoughts on why you're starting this journey."
   ]
  },
  {
   "cell_type": "markdown",
   "id": "e1496e2c",
   "metadata": {},
   "source": [
    "### 🧠 My Reason for Starting This Journey\n",
    "I chose to dedicate this path for this year because I realised that hovering over multiple interests and hobbies will get me nothing.\n",
    "So I planned to have this particular GOAL for DS/AI-ML that matches my interest of maths and creative-complex learning.\n",
    "I believe I will complete it over the year."
   ]
  },
  {
   "cell_type": "code",
   "execution_count": null,
   "id": "7c8ac193",
   "metadata": {},
   "outputs": [],
   "source": [
    "# 👨‍💻 Python Basics\n",
    "# Variable declaration and arithmetic\n",
    "x = 10\n",
    "y = 5\n",
    "print('Sum:', x + y)"
   ]
  },
  {
   "cell_type": "code",
   "execution_count": null,
   "id": "9d99352d",
   "metadata": {},
   "outputs": [],
   "source": [
    "# 🧮 Conditional Statements\n",
    "if x > y:\n",
    "    print('x is greater than y')\n",
    "else:\n",
    "    print('y is greater or equal to x')"
   ]
  },
  {
   "cell_type": "code",
   "execution_count": null,
   "id": "583def9c",
   "metadata": {},
   "outputs": [],
   "source": [
    "# 🔁 Loops\n",
    "for i in range(5):\n",
    "    print('Loop iteration:', i)"
   ]
  },
  {
   "cell_type": "code",
   "execution_count": null,
   "id": "04536629",
   "metadata": {},
   "outputs": [],
   "source": [
    "# 🧰 Functions\n",
    "def greet(name):\n",
    "    return f'Hello, {name}'\n",
    "\n",
    "greet('Harshit')"
   ]
  },
  {
   "cell_type": "markdown",
   "id": "96ef520a",
   "metadata": {},
   "source": [
    "## ✏️ Notes\n",
    "What did you learn today? Any doubts or cool discoveries? Write them below."
   ]
  },
  {
   "cell_type": "markdown",
   "id": "6ea7fa3f",
   "metadata": {},
   "source": [
    "### 📘 Learnings and Discoveries\n",
    "I learned about the basic differences between AI, ML, DS, and DL:\n",
    "\n",
    "- **AI** is the ability of a machine to work on a given task and give a desirable output **without human intervention**.\n",
    "- **ML** is the statistical, mathematical, analytical part of AI.\n",
    "- **DL** is the core of complex neural networks that act like a human brain.\n",
    "\n",
    "I also heard about some particular modules of Python for AI/ML, which I'm excited to explore!"
   ]
  }
 ],
 "metadata": {
  "kernelspec": {
   "display_name": "Python 3 (ipykernel)",
   "language": "python",
   "name": "python3"
  },
  "language_info": {
   "codemirror_mode": {
    "name": "ipython",
    "version": 3
   },
   "file_extension": ".py",
   "mimetype": "text/x-python",
   "name": "python",
   "nbconvert_exporter": "python",
   "pygments_lexer": "ipython3",
   "version": "3.13.2"
  }
 },
 "nbformat": 4,
 "nbformat_minor": 5
}
