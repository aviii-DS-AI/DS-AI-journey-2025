{
 "cells": [
  {
   "cell_type": "raw",
   "id": "b20a6769-2cd9-44cf-872e-dc417dc94674",
   "metadata": {},
   "source": [
    "What is a Random Forest?\n",
    "\n",
    "\n",
    "A Random Forest is like a team of decision trees working together to make better predictions.\n",
    "\n",
    "Imagine asking a group of friends to guess the price of a house based on its size and location. One friend (a single Decision Tree) might be way off. But if you ask a bunch of friends (many trees) and take the average of their guesses, you're likely to get a much better result.\n",
    "\n",
    "That’s what a Random Forest does — it creates many decision trees, lets them vote or average their predictions, and gives a more accurate and stable result.\n"
   ]
  },
  {
   "cell_type": "raw",
   "id": "619dcd50-0bd9-4201-a4f9-71ae3705f733",
   "metadata": {},
   "source": [
    " How is it different from a Decision Tree?\n",
    "\n",
    "Decision Tree\t                                            Random Forest\n",
    "A single tree\t                                            A collection (forest) of trees\n",
    "Can overfit the training data (too specific)\t            Less likely to overfit because of averaging\n",
    "Sensitive to changes in data\t                            More robust and stable\n",
    "Faster to train\t                                            Slower, because it builds many trees"
   ]
  },
  {
   "cell_type": "raw",
   "id": "ecfaaf02-6211-4555-bf75-b240798b157c",
   "metadata": {},
   "source": [
    "What are Ensemble Models?\n",
    "\n",
    "Ensemble models = combining multiple models to make one strong model.\n",
    "\n",
    "There are two main types:\n",
    "Bagging (like Random Forest): Build many models in parallel, and average or vote their results.\n",
    "Boosting (like XGBoost): Build models one after another, each fixing the previous one's mistakes.\n",
    "\n",
    "Random Forest uses bagging — it trains many trees independently and then combines their output."
   ]
  },
  {
   "cell_type": "raw",
   "id": "26b43526-d455-49ec-8c5a-9551a679b1ab",
   "metadata": {},
   "source": [
    "Why is Random Forest more stable?\n",
    "\n",
    "Less overfitting: Each tree sees a random subset of data and features. This makes individual trees different, and the forest combines their opinions for better results.\n",
    "\n",
    "Noise resistant: If your data has some weird values (noise), one tree might mess up, but others won’t — so their average is still reliable.\n",
    "\n",
    "Generalizes better: It doesn't memorize the data like a single tree might — it learns patterns more reliably."
   ]
  },
  {
   "cell_type": "code",
   "execution_count": 3,
   "id": "2a9a618d-4b2d-4fc1-b26f-64435cad702c",
   "metadata": {},
   "outputs": [
    {
     "name": "stdout",
     "output_type": "stream",
     "text": [
      "Accuracy: 0.7757847533632287\n",
      "Confusion Matrix:\n",
      " [[108  26]\n",
      " [ 24  65]]\n",
      "Classification Report:\n",
      "               precision    recall  f1-score   support\n",
      "\n",
      "           0       0.82      0.81      0.81       134\n",
      "           1       0.71      0.73      0.72        89\n",
      "\n",
      "    accuracy                           0.78       223\n",
      "   macro avg       0.77      0.77      0.77       223\n",
      "weighted avg       0.78      0.78      0.78       223\n",
      "\n",
      "Cross-Validation Scores: [0.77653631 0.80898876 0.84269663 0.76966292 0.84831461]\n",
      "Mean CV Accuracy: 0.8092398468394952\n"
     ]
    }
   ],
   "source": [
    "##  Load the Titanic Dataset\n",
    "import seaborn as sns\n",
    "import pandas as pd\n",
    "from sklearn.model_selection import train_test_split\n",
    "\n",
    "df = sns.load_dataset('titanic')\n",
    "\n",
    "# Convert categorical features to numeric\n",
    "df['sex'] = df['sex'].map({'male': 0, 'female': 1})\n",
    "df['embarked'] = df['embarked'].map({'C': 0, 'Q': 1, 'S': 2})\n",
    "\n",
    "# Select features and target\n",
    "features = ['pclass', 'sex', 'age', 'sibsp', 'parch', 'fare', 'embarked']\n",
    "X = df[features]\n",
    "y = df['survived']\n",
    "\n",
    "# Split into train/test\n",
    "X_train, X_test, y_train, y_test = train_test_split(X, y, random_state=42)\n",
    "\n",
    "## Train a RandomForestClassifier\n",
    "from sklearn.ensemble import RandomForestClassifier \n",
    "\n",
    "# Initialize and train the model\n",
    "rf = RandomForestClassifier(n_estimators=100, max_depth=None, random_state=42)\n",
    "rf.fit(X_train, y_train)\n",
    "\n",
    "from sklearn.metrics import accuracy_score, confusion_matrix, classification_report\n",
    "\n",
    "# Predictions\n",
    "y_pred = rf.predict(X_test)\n",
    "\n",
    "# Accuracy\n",
    "print(\"Accuracy:\", accuracy_score(y_test, y_pred))\n",
    "\n",
    "# Confusion Matrix\n",
    "print(\"Confusion Matrix:\\n\", confusion_matrix(y_test, y_pred))\n",
    "\n",
    "# Classification Report\n",
    "print(\"Classification Report:\\n\", classification_report(y_test, y_pred))\n",
    "\n",
    "\n",
    "from sklearn.model_selection import cross_val_score\n",
    "\n",
    "# Perform 5-fold cross-validation\n",
    "scores = cross_val_score(rf, X, y, cv=5)\n",
    "\n",
    "print(\"Cross-Validation Scores:\", scores)\n",
    "print(\"Mean CV Accuracy:\", scores.mean())\n",
    "\n"
   ]
  },
  {
   "cell_type": "raw",
   "id": "7582c8d1-7e9e-4d4d-bf9e-21cf210163e8",
   "metadata": {},
   "source": [
    "RandomForestClassifier(...) creates a new Random Forest model.\n",
    "\n",
    "n_estimators=100\n",
    "➤ This means we’re building 100 different decision trees.\n",
    "➤ More trees can improve accuracy, but also take more time to train.\n",
    "\n",
    "max_depth=None\n",
    "➤ Each tree can grow as deep as needed.\n",
    "➤ You can limit this if you want to prevent overfitting, but here we let trees grow fully.\n",
    "\n",
    "------------------------------------------------------------------------------------------------------------------------------------\n",
    "cross_val_score(...) does this:\n",
    "\n",
    "Splits the full dataset (X, y) into 5 parts (cv=5 → 5-fold cross-validation).\n",
    "Trains the model 5 times:\n",
    "  Each time using 4 parts for training, 1 part for testing.\n",
    "  Rotates the test set each time.\n",
    "\n",
    "Returns 5 accuracy scores (one for each fold).\n",
    "\n",
    "scores.mean()\n",
    "➤ Averages the scores to give you a more reliable accuracy estimate across different data splits.\n",
    "\n",
    "\n",
    "\n",
    "\n",
    "\n",
    "\n",
    "Why is this useful?\n",
    "You avoid lucky/unlucky splits (maybe your test set was too easy or too hard).\n",
    "It helps spot overfitting — if your model does great on training data but poorly on other folds, that’s a red flag.\n",
    "It gives a more honest measure of your model's performance."
   ]
  },
  {
   "cell_type": "code",
   "execution_count": null,
   "id": "906ab8f1-b3d0-4ff9-8a3e-13317e3a18ab",
   "metadata": {},
   "outputs": [],
   "source": [
    "Model\t                     Type\t                    Strengths\t                          Weaknesses                       \tAccuracy (Example)\n",
    "Logistic Regression (LR)\t Linear Model\t           - Simple, fast                       - Struggles with non-linear data    ~78–80% (varies)\n",
    "                                                       - Good for linear relationships\n",
    "                                                       - Interpretable\t                     \n",
    "Decision Tree (DT)\t         Tree-Based\t               - Easy to visualize                  - Prone to overfitting             ~75–78% (varies)\n",
    "                                                       - Handles non-linear data            - Sensitive to small data changes\n",
    "                                                       - No scaling needed\t                \n",
    "                                                                                                 \t\n",
    "Random Forest (RF)\t         Ensemble (Bagging)\t       - More accurate than DT              - Slower than DT                   ~80–85% (varies)\n",
    "                                                       - Less overfitting                   - Less interpretable than LR or a single tree\n",
    "                                                       - Handles missing values\t\n",
    "\n"
   ]
  },
  {
   "cell_type": "code",
   "execution_count": 10,
   "id": "49d7201c-7e23-42b8-9f2f-3ca0203696b5",
   "metadata": {},
   "outputs": [
    {
     "data": {
      "image/png": "[encoded data removed]",
      "text/plain": [
       "<Figure size 800x500 with 1 Axes>"
      ]
     },
     "metadata": {},
     "output_type": "display_data"
    }
   ],
   "source": [
    "\n",
    "## .feature_importances_ with Random Forest## \n",
    "import seaborn as sns\n",
    "import pandas as pd\n",
    "from sklearn.model_selection import train_test_split\n",
    "import matplotlib.pyplot as plt\n",
    "\n",
    "\n",
    "df = sns.load_dataset('titanic')\n",
    "\n",
    "# Convert categorical features to numeric\n",
    "df['sex'] = df['sex'].map({'male': 0, 'female': 1})\n",
    "df['embarked'] = df['embarked'].map({'C': 0, 'Q': 1, 'S': 2})\n",
    "\n",
    "# Select features and target\n",
    "features = ['pclass', 'sex', 'age', 'sibsp', 'parch', 'fare', 'embarked']\n",
    "X = df[features]\n",
    "y = df['survived']\n",
    "\n",
    "# Split into train/test\n",
    "X_train, X_test, y_train, y_test = train_test_split(X, y, random_state=42)\n",
    "\n",
    "## Train a RandomForestClassifier\n",
    "from sklearn.ensemble import RandomForestClassifier \n",
    "\n",
    "# Initialize and train the model\n",
    "rf = RandomForestClassifier(n_estimators=100, max_depth=None, random_state=42)\n",
    "rf.fit(X_train, y_train)\n",
    "\n",
    "from sklearn.metrics import accuracy_score, confusion_matrix, classification_report\n",
    "\n",
    "# Predictions\n",
    "y_pred = rf.predict(X_test)\n",
    "\n",
    "\n",
    "from sklearn.model_selection import cross_val_score\n",
    "\n",
    "# Perform 5-fold cross-validation\n",
    "scores = cross_val_score(rf, X, y, cv=5)\n",
    "\n",
    "important = rf.feature_importances_\n",
    "features_names = X.columns\n",
    "\n",
    "# Create a DataFrame for easy plotting\n",
    "feat_imp = pd.DataFrame({'Feature': features_names, 'Importance': important}).sort_values(by='Importance', ascending=False)\n",
    "\n",
    "# Plot\n",
    "plt.figure(figsize=(8, 5))\n",
    "sns.barplot(x='Importance', y='Feature', data=feat_imp)\n",
    "plt.title('Random Forest Feature Importances')\n",
    "plt.tight_layout()\n",
    "plt.show()"
   ]
  },
  {
   "cell_type": "code",
   "execution_count": null,
   "id": "9ebe6dd6-c9b8-447e-91c9-decaf333867e",
   "metadata": {},
   "outputs": [],
   "source": []
  }
 ],
 "metadata": {
  "kernelspec": {
   "display_name": "Python 3 (ipykernel)",
   "language": "python",
   "name": "python3"
  },
  "language_info": {
   "codemirror_mode": {
    "name": "ipython",
    "version": 3
   },
   "file_extension": ".py",
   "mimetype": "text/x-python",
   "name": "python",
   "nbconvert_exporter": "python",
   "pygments_lexer": "ipython3",
   "version": "3.13.2"
  }
 },
 "nbformat": 4,
 "nbformat_minor": 5
}
